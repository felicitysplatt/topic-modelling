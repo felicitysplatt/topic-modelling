{
 "cells": [
  {
   "cell_type": "code",
   "execution_count": 1,
   "metadata": {},
   "outputs": [],
   "source": [
    "## http://www.machinelearningplus.com/nlp/topic-modeling-gensim-python/"
   ]
  },
  {
   "cell_type": "code",
   "execution_count": 2,
   "metadata": {},
   "outputs": [
    {
     "name": "stderr",
     "output_type": "stream",
     "text": [
      "C:\\Users\\Felicity Splatt\\AppData\\Local\\Continuum\\anaconda3\\lib\\site-packages\\gensim\\utils.py:1212: UserWarning: detected Windows; aliasing chunkize to chunkize_serial\n",
      "  warnings.warn(\"detected Windows; aliasing chunkize to chunkize_serial\")\n"
     ]
    }
   ],
   "source": [
    "import numpy as np\n",
    "import pandas as pd\n",
    "from pprint import pprint\n",
    "\n",
    "import gensim\n",
    "import gensim.corpora as corpora\n",
    "from gensim.utils import simple_preprocess\n",
    "from gensim.models import CoherenceModel\n",
    "\n",
    "#python -m spacy download en\n",
    "import spacy\n",
    "import en_core_web_sm ## because spacy is being annoying\n",
    "\n",
    "import pyLDAvis\n",
    "\n",
    "## we want this for plotting, but it's overwriting gensim\n",
    "#from pyLDAvis import gensim\n",
    "\n",
    "import logging\n",
    "logging.basicConfig(format= '%(asctime)s : %(levelname)s : %(message)s', level=logging.ERROR)\n",
    "\n",
    "import warnings\n",
    "warnings.filterwarnings(\"ignore\", category=DeprecationWarning)\n",
    "\n",
    "from nltk.corpus import stopwords\n",
    "import nltk\n",
    "\n",
    "## required?\n",
    "import sputnik\n",
    "\n",
    "import os\n",
    "\n",
    "import time\n",
    "\n",
    "import matplotlib.pyplot as plt"
   ]
  },
  {
   "cell_type": "code",
   "execution_count": 3,
   "metadata": {},
   "outputs": [
    {
     "name": "stderr",
     "output_type": "stream",
     "text": [
      "C:\\Users\\Felicity Splatt\\AppData\\Local\\Continuum\\anaconda3\\lib\\site-packages\\IPython\\core\\interactiveshell.py:2785: DtypeWarning: Columns (5,11) have mixed types. Specify dtype option on import or set low_memory=False.\n",
      "  interactivity=interactivity, compiler=compiler, result=result)\n"
     ]
    },
    {
     "data": {
      "text/html": [
       "<div>\n",
       "<style scoped>\n",
       "    .dataframe tbody tr th:only-of-type {\n",
       "        vertical-align: middle;\n",
       "    }\n",
       "\n",
       "    .dataframe tbody tr th {\n",
       "        vertical-align: top;\n",
       "    }\n",
       "\n",
       "    .dataframe thead th {\n",
       "        text-align: right;\n",
       "    }\n",
       "</style>\n",
       "<table border=\"1\" class=\"dataframe\">\n",
       "  <thead>\n",
       "    <tr style=\"text-align: right;\">\n",
       "      <th></th>\n",
       "      <th>date_received</th>\n",
       "      <th>product</th>\n",
       "      <th>sub_product</th>\n",
       "      <th>issue</th>\n",
       "      <th>sub_issue</th>\n",
       "      <th>consumer_complaint_narrative</th>\n",
       "      <th>company_public_response</th>\n",
       "      <th>company</th>\n",
       "      <th>state</th>\n",
       "      <th>zipcode</th>\n",
       "      <th>tags</th>\n",
       "      <th>consumer_consent_provided</th>\n",
       "      <th>submitted_via</th>\n",
       "      <th>date_sent_to_company</th>\n",
       "      <th>company_response_to_consumer</th>\n",
       "      <th>timely_response</th>\n",
       "      <th>consumer_disputed?</th>\n",
       "      <th>complaint_id</th>\n",
       "    </tr>\n",
       "  </thead>\n",
       "  <tbody>\n",
       "    <tr>\n",
       "      <th>190126</th>\n",
       "      <td>03/19/2015</td>\n",
       "      <td>Debt collection</td>\n",
       "      <td>Other (i.e. phone, health club, etc.)</td>\n",
       "      <td>Cont'd attempts collect debt not owed</td>\n",
       "      <td>Debt was paid</td>\n",
       "      <td>XXXX has claimed I owe them {$27.00} for XXXX ...</td>\n",
       "      <td>NaN</td>\n",
       "      <td>Diversified Consultants, Inc.</td>\n",
       "      <td>NY</td>\n",
       "      <td>121XX</td>\n",
       "      <td>Older American</td>\n",
       "      <td>Consent provided</td>\n",
       "      <td>Web</td>\n",
       "      <td>03/19/2015</td>\n",
       "      <td>Closed with explanation</td>\n",
       "      <td>Yes</td>\n",
       "      <td>No</td>\n",
       "      <td>1290516</td>\n",
       "    </tr>\n",
       "    <tr>\n",
       "      <th>190135</th>\n",
       "      <td>03/19/2015</td>\n",
       "      <td>Consumer Loan</td>\n",
       "      <td>Vehicle loan</td>\n",
       "      <td>Managing the loan or lease</td>\n",
       "      <td>NaN</td>\n",
       "      <td>Due to inconsistencies in the amount owed that...</td>\n",
       "      <td>NaN</td>\n",
       "      <td>M&amp;T Bank Corporation</td>\n",
       "      <td>VA</td>\n",
       "      <td>221XX</td>\n",
       "      <td>Servicemember</td>\n",
       "      <td>Consent provided</td>\n",
       "      <td>Web</td>\n",
       "      <td>03/19/2015</td>\n",
       "      <td>Closed with explanation</td>\n",
       "      <td>Yes</td>\n",
       "      <td>No</td>\n",
       "      <td>1290492</td>\n",
       "    </tr>\n",
       "    <tr>\n",
       "      <th>190155</th>\n",
       "      <td>03/19/2015</td>\n",
       "      <td>Mortgage</td>\n",
       "      <td>Conventional fixed mortgage</td>\n",
       "      <td>Loan modification,collection,foreclosure</td>\n",
       "      <td>NaN</td>\n",
       "      <td>In XX/XX/XXXX my wages that I earned at my job...</td>\n",
       "      <td>NaN</td>\n",
       "      <td>Wells Fargo &amp; Company</td>\n",
       "      <td>CA</td>\n",
       "      <td>946XX</td>\n",
       "      <td>NaN</td>\n",
       "      <td>Consent provided</td>\n",
       "      <td>Web</td>\n",
       "      <td>03/19/2015</td>\n",
       "      <td>Closed with explanation</td>\n",
       "      <td>Yes</td>\n",
       "      <td>Yes</td>\n",
       "      <td>1290524</td>\n",
       "    </tr>\n",
       "    <tr>\n",
       "      <th>190207</th>\n",
       "      <td>03/19/2015</td>\n",
       "      <td>Mortgage</td>\n",
       "      <td>Conventional fixed mortgage</td>\n",
       "      <td>Loan servicing, payments, escrow account</td>\n",
       "      <td>NaN</td>\n",
       "      <td>I have an open and current mortgage with Chase...</td>\n",
       "      <td>NaN</td>\n",
       "      <td>JPMorgan Chase &amp; Co.</td>\n",
       "      <td>CA</td>\n",
       "      <td>900XX</td>\n",
       "      <td>Older American</td>\n",
       "      <td>Consent provided</td>\n",
       "      <td>Web</td>\n",
       "      <td>03/19/2015</td>\n",
       "      <td>Closed with explanation</td>\n",
       "      <td>Yes</td>\n",
       "      <td>Yes</td>\n",
       "      <td>1290253</td>\n",
       "    </tr>\n",
       "    <tr>\n",
       "      <th>190208</th>\n",
       "      <td>03/19/2015</td>\n",
       "      <td>Mortgage</td>\n",
       "      <td>Conventional fixed mortgage</td>\n",
       "      <td>Credit decision / Underwriting</td>\n",
       "      <td>NaN</td>\n",
       "      <td>XXXX was submitted XX/XX/XXXX. At the time I s...</td>\n",
       "      <td>NaN</td>\n",
       "      <td>Rushmore Loan Management Services LLC</td>\n",
       "      <td>CA</td>\n",
       "      <td>956XX</td>\n",
       "      <td>Older American</td>\n",
       "      <td>Consent provided</td>\n",
       "      <td>Web</td>\n",
       "      <td>03/19/2015</td>\n",
       "      <td>Closed with explanation</td>\n",
       "      <td>Yes</td>\n",
       "      <td>Yes</td>\n",
       "      <td>1292137</td>\n",
       "    </tr>\n",
       "  </tbody>\n",
       "</table>\n",
       "</div>"
      ],
      "text/plain": [
       "       date_received          product                            sub_product  \\\n",
       "190126    03/19/2015  Debt collection  Other (i.e. phone, health club, etc.)   \n",
       "190135    03/19/2015    Consumer Loan                           Vehicle loan   \n",
       "190155    03/19/2015         Mortgage            Conventional fixed mortgage   \n",
       "190207    03/19/2015         Mortgage            Conventional fixed mortgage   \n",
       "190208    03/19/2015         Mortgage            Conventional fixed mortgage   \n",
       "\n",
       "                                           issue      sub_issue  \\\n",
       "190126     Cont'd attempts collect debt not owed  Debt was paid   \n",
       "190135                Managing the loan or lease            NaN   \n",
       "190155  Loan modification,collection,foreclosure            NaN   \n",
       "190207  Loan servicing, payments, escrow account            NaN   \n",
       "190208            Credit decision / Underwriting            NaN   \n",
       "\n",
       "                             consumer_complaint_narrative  \\\n",
       "190126  XXXX has claimed I owe them {$27.00} for XXXX ...   \n",
       "190135  Due to inconsistencies in the amount owed that...   \n",
       "190155  In XX/XX/XXXX my wages that I earned at my job...   \n",
       "190207  I have an open and current mortgage with Chase...   \n",
       "190208  XXXX was submitted XX/XX/XXXX. At the time I s...   \n",
       "\n",
       "       company_public_response                                company state  \\\n",
       "190126                     NaN          Diversified Consultants, Inc.    NY   \n",
       "190135                     NaN                   M&T Bank Corporation    VA   \n",
       "190155                     NaN                  Wells Fargo & Company    CA   \n",
       "190207                     NaN                   JPMorgan Chase & Co.    CA   \n",
       "190208                     NaN  Rushmore Loan Management Services LLC    CA   \n",
       "\n",
       "       zipcode            tags consumer_consent_provided submitted_via  \\\n",
       "190126   121XX  Older American          Consent provided           Web   \n",
       "190135   221XX   Servicemember          Consent provided           Web   \n",
       "190155   946XX             NaN          Consent provided           Web   \n",
       "190207   900XX  Older American          Consent provided           Web   \n",
       "190208   956XX  Older American          Consent provided           Web   \n",
       "\n",
       "       date_sent_to_company company_response_to_consumer timely_response  \\\n",
       "190126           03/19/2015      Closed with explanation             Yes   \n",
       "190135           03/19/2015      Closed with explanation             Yes   \n",
       "190155           03/19/2015      Closed with explanation             Yes   \n",
       "190207           03/19/2015      Closed with explanation             Yes   \n",
       "190208           03/19/2015      Closed with explanation             Yes   \n",
       "\n",
       "       consumer_disputed?  complaint_id  \n",
       "190126                 No       1290516  \n",
       "190135                 No       1290492  \n",
       "190155                Yes       1290524  \n",
       "190207                Yes       1290253  \n",
       "190208                Yes       1292137  "
      ]
     },
     "execution_count": 3,
     "metadata": {},
     "output_type": "execute_result"
    }
   ],
   "source": [
    "## https://www.kaggle.com/cfpb/us-consumer-finance-complaints/version/1\n",
    "df = pd.read_csv('C://Users/Felicity Splatt/Documents/00_Personal/consumer_complaints.csv')\n",
    "\n",
    "df = df.dropna(axis='index', subset=['consumer_complaint_narrative'])\n",
    "df.head()"
   ]
  },
  {
   "cell_type": "code",
   "execution_count": 4,
   "metadata": {},
   "outputs": [],
   "source": [
    "## remove newline characters\n",
    "df.consumer_complaint_narrative = df.consumer_complaint_narrative.replace(r'\\s', ' ', regex=True)\n",
    "df.consumer_complaint_narrative = df.consumer_complaint_narrative.replace(r'\\\\n', ' ', regex=True)\n",
    "\n",
    "## convert verbatim column to list\n",
    "data = df.consumer_complaint_narrative.values.tolist()"
   ]
  },
  {
   "cell_type": "code",
   "execution_count": 5,
   "metadata": {},
   "outputs": [
    {
     "name": "stdout",
     "output_type": "stream",
     "text": [
      "[['xxxx', 'has', 'claimed', 'owe', 'them', 'for', 'xxxx', 'years', 'despite', 'the', 'proof', 'of', 'payment', 'sent', 'them', 'canceled', 'check', 'and', 'their', 'ownpaid', 'invoice', 'for', 'they', 'continue', 'to', 'insist', 'owe', 'them', 'and', 'collection', 'agencies', 'are', 'after', 'me', 'how', 'can', 'stop', 'this', 'harassment', 'for', 'bill', 'already', 'paid', 'four', 'years', 'ago']]\n"
     ]
    }
   ],
   "source": [
    "def para_to_words(paragraph):\n",
    "    for para in paragraph:\n",
    "        yield(gensim.utils.simple_preprocess(str(para), deacc=True))\n",
    "\n",
    "data_words = list(para_to_words(data))\n",
    "\n",
    "print(data_words[:1])"
   ]
  },
  {
   "cell_type": "code",
   "execution_count": 6,
   "metadata": {},
   "outputs": [
    {
     "name": "stderr",
     "output_type": "stream",
     "text": [
      "C:\\Users\\Felicity Splatt\\AppData\\Local\\Continuum\\anaconda3\\lib\\site-packages\\gensim\\models\\phrases.py:598: UserWarning: For a faster implementation, use the gensim.models.phrases.Phraser class\n",
      "  warnings.warn(\"For a faster implementation, use the gensim.models.phrases.Phraser class\")\n"
     ]
    },
    {
     "name": "stdout",
     "output_type": "stream",
     "text": [
      "['xxxx', 'has', 'claimed', 'owe', 'them', 'for', 'xxxx', 'years', 'despite', 'the', 'proof', 'of', 'payment', 'sent', 'them', 'canceled', 'check', 'and', 'their', 'ownpaid', 'invoice', 'for', 'they', 'continue', 'to', 'insist', 'owe', 'them', 'and', 'collection', 'agencies', 'are', 'after', 'me', 'how', 'can', 'stop', 'this', 'harassment', 'for', 'bill', 'already', 'paid', 'four', 'years', 'ago']\n"
     ]
    }
   ],
   "source": [
    "## build bigram and trigram models\n",
    "\n",
    "bigram = gensim.models.Phrases(data_words, min_count=5, threshold=100)\n",
    "trigram = gensim.models.Phrases(bigram[data_words], threshold = 100)\n",
    "\n",
    "bigram_mod = gensim.models.phrases.Phraser(bigram)\n",
    "trigram_mod = gensim.models.phrases.Phraser(trigram)\n",
    "\n",
    "print(trigram_mod[bigram_mod[data_words[0]]])"
   ]
  },
  {
   "cell_type": "code",
   "execution_count": 7,
   "metadata": {},
   "outputs": [
    {
     "name": "stdout",
     "output_type": "stream",
     "text": [
      "[nltk_data] Downloading package stopwords to C:\\Users\\Felicity\n",
      "[nltk_data]     Splatt\\AppData\\Roaming\\nltk_data...\n",
      "[nltk_data]   Package stopwords is already up-to-date!\n"
     ]
    }
   ],
   "source": [
    "nltk.download('stopwords')\n",
    "stop_words = set(stopwords.words(\"english\"))"
   ]
  },
  {
   "cell_type": "code",
   "execution_count": 50,
   "metadata": {},
   "outputs": [],
   "source": [
    "## manually add stopwords\n",
    "stop_words.update(('xxxx'))"
   ]
  },
  {
   "cell_type": "code",
   "execution_count": 51,
   "metadata": {},
   "outputs": [],
   "source": [
    "def remove_stopwords(texts):\n",
    "    return [[word for word in simple_preprocess(str(doc)) if word not in stop_words] for doc in texts]\n",
    "    \n",
    "def make_bigrams(texts):\n",
    "    return [bigram_mod[doc] for doc in texts]\n",
    "\n",
    "def make_trigrams(texts):\n",
    "    return [trigram_mod[bigram_mod[doc]] for doc in texts]\n",
    "\n",
    "## lemmatization - stemming, etc\n",
    "## keep only nouns, adjectives, verbs and adverbs\n",
    "def lemmatization(texts, allowed_postags=['NOUN', 'ADJ', 'VERB', 'ADV']):\n",
    "    \"\"\"https://spacy.io/api/annotation\"\"\"\n",
    "    texts_out = []\n",
    "    for sent in texts:\n",
    "        doc = nlp(\" \".join(sent))\n",
    "        texts_out.append([token.lemma_ for token in doc if token.pos_ in allowed_postags])\n",
    "    return texts_out"
   ]
  },
  {
   "cell_type": "code",
   "execution_count": 52,
   "metadata": {},
   "outputs": [],
   "source": [
    "## remove stopwords\n",
    "data_words_nostops = remove_stopwords(data_words)\n",
    "\n",
    "## create bigrams\n",
    "data_words_bigrams = make_bigrams(data_words_nostops)\n",
    "\n",
    "## these two do not work\n",
    "#nlp = spacy.load('en', disable=['parser', 'ner'])\n",
    "#nlp = spacy.load('en_core_web_sm', disable=['parser', 'ner'])\n",
    "\n",
    "## initialise space 'en_core_web_sm' model\n",
    "## model has vocabularly, syntax, entities\n",
    "## this is the version that I did get to work\n",
    "nlp = en_core_web_sm.load(disable=['parser', 'ner'])\n",
    "\n",
    "data_lemmatized = lemmatization(data_words_bigrams, allowed_postags=['NOUN', 'ADJ', 'VERB', 'ADV'])\n",
    "#print(data_lemmatized[:1])"
   ]
  },
  {
   "cell_type": "code",
   "execution_count": null,
   "metadata": {},
   "outputs": [],
   "source": [
    "## check that xxxx has been removed"
   ]
  },
  {
   "cell_type": "code",
   "execution_count": 11,
   "metadata": {},
   "outputs": [],
   "source": [
    "## create dictionary - maps all words to a word id?\n",
    "id2word = corpora.Dictionary(data_lemmatized)\n",
    "\n",
    "## create corpus - a mapping of [word_id, word_frequency]\n",
    "texts = data_lemmatized\n",
    "\n",
    "## term document frequency\n",
    "corpus = [id2word.doc2bow(text) for text in texts]\n",
    "#print(corpus[:1])"
   ]
  },
  {
   "cell_type": "code",
   "execution_count": 12,
   "metadata": {},
   "outputs": [],
   "source": [
    "## human-readable dictiorinary, if you want to have a look\n",
    "#[[(id2word[id], freq) for id, freq in cp] for cp in corpus[:1]]"
   ]
  },
  {
   "cell_type": "code",
   "execution_count": 13,
   "metadata": {},
   "outputs": [],
   "source": [
    "## LDA model\n",
    "lda_model = gensim.models.ldamodel.LdaModel(\n",
    "\n",
    "    corpus = corpus\n",
    "    ,id2word = id2word ## dictionary\n",
    "    \n",
    "    ## later we'll loop through this\n",
    "    ,num_topics = 6\n",
    "    ,random_state = 100\n",
    "    ,update_every = 1\n",
    "    ,chunksize = 100\n",
    "    \n",
    "    ## how to know what to set this to?\n",
    "    ,passes = 10\n",
    "    \n",
    "    ,alpha = 'auto'\n",
    "    ,per_word_topics = True\n",
    ")"
   ]
  },
  {
   "cell_type": "code",
   "execution_count": 14,
   "metadata": {},
   "outputs": [
    {
     "name": "stdout",
     "output_type": "stream",
     "text": [
      "[(0,\n",
      "  '0.098*\"payment\" + 0.061*\"pay\" + 0.039*\"make\" + 0.033*\"month\" + '\n",
      "  '0.028*\"charge\" + 0.027*\"amount\" + 0.025*\"fee\" + 0.025*\"balance\" + '\n",
      "  '0.023*\"late\" + 0.022*\"due\"'),\n",
      " (1,\n",
      "  '0.803*\"xxxx\" + 0.011*\"date\" + 0.004*\"name\" + 0.004*\"show\" + 0.004*\"number\" '\n",
      "  '+ 0.004*\"status\" + 0.003*\"see\" + 0.003*\"state\" + 0.003*\"also\" + '\n",
      "  '0.003*\"record\"'),\n",
      " (2,\n",
      "  '0.081*\"loan\" + 0.051*\"mortgage\" + 0.027*\"home\" + 0.017*\"modification\" + '\n",
      "  '0.012*\"property\" + 0.012*\"wells_fargo\" + 0.012*\"year\" + 0.011*\"tax\" + '\n",
      "  '0.011*\"foreclosure\" + 0.010*\"house\"'),\n",
      " (3,\n",
      "  '0.032*\"file\" + 0.024*\"law\" + 0.019*\"fraud\" + 0.018*\"fraudulent\" + '\n",
      "  '0.017*\"act\" + 0.017*\"consumer\" + 0.015*\"complaint\" + 0.015*\"fair\" + '\n",
      "  '0.014*\"bankruptcy\" + 0.013*\"right\"'),\n",
      " (4,\n",
      "  '0.049*\"call\" + 0.032*\"tell\" + 0.029*\"get\" + 0.026*\"would\" + 0.026*\"say\" + '\n",
      "  '0.021*\"time\" + 0.019*\"go\" + 0.016*\"ask\" + 0.015*\"phone\" + 0.015*\"back\"'),\n",
      " (5,\n",
      "  '0.115*\"account\" + 0.099*\"bank\" + 0.076*\"card\" + 0.055*\"check\" + '\n",
      "  '0.022*\"america\" + 0.022*\"charge\" + 0.022*\"money\" + 0.021*\"close\" + '\n",
      "  '0.018*\"fund\" + 0.018*\"fee\"'),\n",
      " (6,\n",
      "  '0.086*\"receive\" + 0.083*\"send\" + 0.064*\"letter\" + 0.058*\"request\" + '\n",
      "  '0.041*\"state\" + 0.032*\"contact\" + 0.029*\"mail\" + 0.028*\"information\" + '\n",
      "  '0.027*\"provide\" + 0.023*\"address\"'),\n",
      " (7,\n",
      "  '0.021*\"issue\" + 0.014*\"service\" + 0.014*\"financial\" + 0.014*\"process\" + '\n",
      "  '0.011*\"offer\" + 0.011*\"complaint\" + 0.010*\"attempt\" + 0.009*\"point\" + '\n",
      "  '0.009*\"would\" + 0.008*\"fact\"'),\n",
      " (8,\n",
      "  '0.139*\"debt\" + 0.076*\"collection\" + 0.043*\"owe\" + 0.029*\"car\" + '\n",
      "  '0.029*\"agency\" + 0.029*\"pay\" + 0.028*\"collect\" + 0.023*\"company\" + '\n",
      "  '0.022*\"vehicle\" + 0.021*\"bill\"'),\n",
      " (9,\n",
      "  '0.203*\"credit\" + 0.129*\"report\" + 0.078*\"account\" + 0.038*\"dispute\" + '\n",
      "  '0.034*\"remove\" + 0.027*\"information\" + 0.020*\"experian\" + 0.018*\"item\" + '\n",
      "  '0.018*\"reporting\" + 0.016*\"score\"')]\n"
     ]
    }
   ],
   "source": [
    "pprint(lda_model.print_topics())\n",
    "doc_lda = lda_model[corpus]"
   ]
  },
  {
   "cell_type": "code",
   "execution_count": 15,
   "metadata": {},
   "outputs": [
    {
     "name": "stdout",
     "output_type": "stream",
     "text": [
      "\n",
      "Perplexity:  -6.474277633087947\n",
      "\n",
      "Coherence Score:  0.4624044618760994\n"
     ]
    }
   ],
   "source": [
    "print('\\nPerplexity: ', lda_model.log_perplexity(corpus))\n",
    "\n",
    "coherence_model_lda = CoherenceModel(model=lda_model, texts=data_lemmatized, dictionary=id2word, coherence='c_v')\n",
    "coherence_lda = coherence_model_lda.get_coherence()\n",
    "print('\\nCoherence Score: ', coherence_lda)"
   ]
  },
  {
   "cell_type": "code",
   "execution_count": null,
   "metadata": {},
   "outputs": [],
   "source": [
    "## this is not working - it does not like pyLDAvis.gensim\n",
    "#pyLDAvis.enable_notebook()\n",
    "#vis = pyLDAvis.gensim.prepare(lda_model, corpus, id2word)\n",
    "#vis"
   ]
  },
  {
   "cell_type": "code",
   "execution_count": null,
   "metadata": {},
   "outputs": [],
   "source": [
    "## TODO: cannot get this to work\n",
    "\n",
    "#from gensim.models.wrappers import LdaMallet\n",
    "#os.environ['MALLET_HOME'] = 'C:\\\\Users\\\\Felicity Splatt\\\\mallet-2.0.8'\n",
    "#mallet_path = 'C:\\\\Users\\\\Felicity Splatt\\\\mallet-2.0.8'\n",
    "#ldamallet = gensim.models.wrappers.LdaMallet(mallet_path, corpus=corpus, num_topics=20, id2word=id2word)"
   ]
  },
  {
   "cell_type": "code",
   "execution_count": null,
   "metadata": {},
   "outputs": [],
   "source": [
    "#pprint(ldamallet.show_topics(.)formatted=False))\n",
    "#coherence_ldamallet = coherence_model_ldamallet.get_coherence()\n",
    "#print('\\nCoherence Score: ', coherence_ldamallet)"
   ]
  },
  {
   "cell_type": "code",
   "execution_count": 16,
   "metadata": {},
   "outputs": [],
   "source": [
    "## a function to try different \"num_topics\", so we can choose a value that makes sense\n",
    "\n",
    "def compute_coherence_values(dictionary, corpus, texts, limit, start=2, step=3):\n",
    "    \"\"\"\n",
    "    Compute c_v coherence for various number of topics\n",
    "\n",
    "    Parameters:\n",
    "    ----------\n",
    "    dictionary : Gensim dictionary\n",
    "    corpus : Gensim corpus\n",
    "    texts : List of input texts\n",
    "    limit : Max num of topics\n",
    "\n",
    "    Returns:\n",
    "    -------\n",
    "    model_list : List of LDA topic models\n",
    "    coherence_values : Coherence values corresponding to the LDA model with respective number of topics\n",
    "    \"\"\"\n",
    "    coherence_values = []\n",
    "    model_list = []\n",
    "    for num_topics in range(start, limit, step):\n",
    "        \n",
    "        ## not working - cannot get it to find mallet for some reason\n",
    "        #model = gensim.models.wrappers.LdaMallet(mallet_path, corpus=corpus, num_topics=num_topics, id2word=id2word)\n",
    "        \n",
    "        ## so let's use instead LDA\n",
    "        model = gensim.models.ldamodel.LdaModel(\n",
    "            corpus = corpus\n",
    "            ,id2word = id2word\n",
    "            \n",
    "            ## variable, we will loop over\n",
    "            ,num_topics = num_topics\n",
    "            ,random_state = 100\n",
    "            ,update_every = 1\n",
    "            ,chunksize = 100\n",
    "            ,passes = 10\n",
    "            ,alpha = 'auto'\n",
    "            ,per_word_topics = True\n",
    "        )\n",
    "        model_list.append(model)\n",
    "        coherencemodel = CoherenceModel(model=model, texts=texts, dictionary=dictionary, coherence='c_v')\n",
    "        coherence_values.append(coherencemodel.get_coherence())\n",
    "\n",
    "    return model_list, coherence_values"
   ]
  },
  {
   "cell_type": "code",
   "execution_count": 47,
   "metadata": {},
   "outputs": [
    {
     "ename": "TypeError",
     "evalue": "unsupported operand type(s) for /: 'str' and 'int'",
     "output_type": "error",
     "traceback": [
      "\u001b[1;31m---------------------------------------------------------------------------\u001b[0m",
      "\u001b[1;31mTypeError\u001b[0m                                 Traceback (most recent call last)",
      "\u001b[1;32m<ipython-input-47-c37e6c314102>\u001b[0m in \u001b[0;36m<module>\u001b[1;34m()\u001b[0m\n\u001b[0;32m     15\u001b[0m \u001b[1;33m\u001b[0m\u001b[0m\n\u001b[0;32m     16\u001b[0m \u001b[1;33m\u001b[0m\u001b[0m\n\u001b[1;32m---> 17\u001b[1;33m \u001b[0mprint\u001b[0m\u001b[1;33m(\u001b[0m\u001b[1;34m\"--- %s minutes ---\"\u001b[0m \u001b[1;33m%\u001b[0m \u001b[1;33m(\u001b[0m\u001b[0mtime\u001b[0m\u001b[1;33m.\u001b[0m\u001b[0mclock\u001b[0m\u001b[1;33m(\u001b[0m\u001b[1;33m)\u001b[0m \u001b[1;33m-\u001b[0m \u001b[0mstart_time\u001b[0m\u001b[1;33m)\u001b[0m\u001b[1;33m/\u001b[0m\u001b[1;36m60\u001b[0m\u001b[1;33m)\u001b[0m\u001b[1;33m\u001b[0m\u001b[0m\n\u001b[0m",
      "\u001b[1;31mTypeError\u001b[0m: unsupported operand type(s) for /: 'str' and 'int'"
     ]
    }
   ],
   "source": [
    "## use our function above\n",
    "\n",
    "## 100 minutes to run 2 models\n",
    "\n",
    "start_time = time.clock()\n",
    "\n",
    "model_list, coherence_values = compute_coherence_values(\n",
    "    dictionary = id2word\n",
    "    ,corpus = corpus\n",
    "    ,texts = data_lemmatized\n",
    "    ,start = 4\n",
    "    ,limit = 15\n",
    "    ,step = 1\n",
    "    )\n",
    "\n",
    "\n",
    "print(\"--- %s minutes ---\" % (time.clock() - start_time)/60)"
   ]
  },
  {
   "cell_type": "code",
   "execution_count": 42,
   "metadata": {},
   "outputs": [
    {
     "data": {
      "text/plain": [
       "<gensim.models.ldamodel.LdaModel at 0x1a5b171a860>"
      ]
     },
     "execution_count": 42,
     "metadata": {},
     "output_type": "execute_result"
    }
   ],
   "source": [
    "model_list[4]"
   ]
  },
  {
   "cell_type": "code",
   "execution_count": 48,
   "metadata": {},
   "outputs": [
    {
     "data": {
      "image/png": "[encoded data removed]",
      "text/plain": [
       "<Figure size 432x288 with 1 Axes>"
      ]
     },
     "metadata": {
      "needs_background": "light"
     },
     "output_type": "display_data"
    }
   ],
   "source": [
    "## determine best coherence value - essentially like k-means where we're looking for an \"elbow\" in the curve\n",
    "limit = 15; start = 4; step = 1;\n",
    "x = range(start, limit, step)\n",
    "plt.plot(x, coherence_values)\n",
    "plt.xlabel(\"Num Topics\")\n",
    "plt.ylabel(\"Coherence score\")\n",
    "plt.legend((\"coherence_values\"), loc='best')\n",
    "plt.show()"
   ]
  },
  {
   "cell_type": "code",
   "execution_count": 49,
   "metadata": {},
   "outputs": [
    {
     "name": "stdout",
     "output_type": "stream",
     "text": [
      "Num Topics = 4  has Coherence Value of 0.4159\n",
      "Num Topics = 5  has Coherence Value of 0.446\n",
      "Num Topics = 6  has Coherence Value of 0.4766\n",
      "Num Topics = 7  has Coherence Value of 0.466\n",
      "Num Topics = 8  has Coherence Value of 0.4521\n",
      "Num Topics = 9  has Coherence Value of 0.4636\n",
      "Num Topics = 10  has Coherence Value of 0.4624\n",
      "Num Topics = 11  has Coherence Value of 0.446\n",
      "Num Topics = 12  has Coherence Value of 0.4306\n",
      "Num Topics = 13  has Coherence Value of 0.4621\n",
      "Num Topics = 14  has Coherence Value of 0.4508\n"
     ]
    }
   ],
   "source": [
    "# Print the coherence scores\n",
    "for m, cv in zip(x, coherence_values):\n",
    "    print(\"Num Topics =\", m, \" has Coherence Value of\", round(cv, 4))"
   ]
  },
  {
   "cell_type": "code",
   "execution_count": 38,
   "metadata": {},
   "outputs": [
    {
     "name": "stdout",
     "output_type": "stream",
     "text": [
      "[(0,\n",
      "  '0.056*\"account\" + 0.033*\"bank\" + 0.032*\"payment\" + 0.029*\"card\" + '\n",
      "  '0.027*\"charge\" + 0.023*\"fee\" + 0.022*\"credit\" + 0.018*\"pay\" + 0.018*\"check\" '\n",
      "  '+ 0.016*\"make\"'),\n",
      " (1,\n",
      "  '0.406*\"xxxx\" + 0.013*\"receive\" + 0.011*\"letter\" + 0.010*\"request\" + '\n",
      "  '0.010*\"state\" + 0.009*\"date\" + 0.007*\"complaint\" + 0.007*\"provide\" + '\n",
      "  '0.007*\"send\" + 0.006*\"file\"'),\n",
      " (2,\n",
      "  '0.055*\"loan\" + 0.037*\"payment\" + 0.034*\"mortgage\" + 0.017*\"home\" + '\n",
      "  '0.014*\"pay\" + 0.013*\"make\" + 0.013*\"month\" + 0.012*\"modification\" + '\n",
      "  '0.011*\"year\" + 0.009*\"time\"'),\n",
      " (3,\n",
      "  '0.086*\"credit\" + 0.073*\"report\" + 0.043*\"debt\" + 0.039*\"account\" + '\n",
      "  '0.024*\"collection\" + 0.024*\"dispute\" + 0.022*\"information\" + 0.019*\"agency\" '\n",
      "  '+ 0.018*\"remove\" + 0.012*\"experian\"'),\n",
      " (4,\n",
      "  '0.043*\"call\" + 0.027*\"tell\" + 0.023*\"get\" + 0.022*\"say\" + 0.021*\"would\" + '\n",
      "  '0.016*\"time\" + 0.016*\"ask\" + 0.014*\"go\" + 0.013*\"pay\" + 0.013*\"phone\"')]\n"
     ]
    }
   ],
   "source": [
    "## manually select the \"best\" model\n",
    "optimal_model = model_list[1]\n",
    "\n",
    "## print the topics\n",
    "model_topics = optimal_model.show_topics(formatted=False)\n",
    "pprint(optimal_model.print_topics(num_words=10))"
   ]
  },
  {
   "cell_type": "code",
   "execution_count": null,
   "metadata": {},
   "outputs": [],
   "source": [
    "del lda"
   ]
  },
  {
   "cell_type": "code",
   "execution_count": 39,
   "metadata": {},
   "outputs": [
    {
     "ename": "TypeError",
     "evalue": "'<' not supported between instances of 'int' and 'tuple'",
     "output_type": "error",
     "traceback": [
      "\u001b[1;31m---------------------------------------------------------------------------\u001b[0m",
      "\u001b[1;31mTypeError\u001b[0m                                 Traceback (most recent call last)",
      "\u001b[1;32m<ipython-input-39-98ce17a630f6>\u001b[0m in \u001b[0;36m<module>\u001b[1;34m()\u001b[0m\n\u001b[0;32m     22\u001b[0m \u001b[1;33m\u001b[0m\u001b[0m\n\u001b[0;32m     23\u001b[0m \u001b[1;33m\u001b[0m\u001b[0m\n\u001b[1;32m---> 24\u001b[1;33m \u001b[0mdf_topic_sents_keywords\u001b[0m \u001b[1;33m=\u001b[0m \u001b[0mformat_topics_sentences\u001b[0m\u001b[1;33m(\u001b[0m\u001b[0mldamodel\u001b[0m\u001b[1;33m=\u001b[0m\u001b[0moptimal_model\u001b[0m\u001b[1;33m,\u001b[0m \u001b[0mcorpus\u001b[0m\u001b[1;33m=\u001b[0m\u001b[0mcorpus\u001b[0m\u001b[1;33m,\u001b[0m \u001b[0mtexts\u001b[0m\u001b[1;33m=\u001b[0m\u001b[0mdata\u001b[0m\u001b[1;33m)\u001b[0m\u001b[1;33m\u001b[0m\u001b[0m\n\u001b[0m\u001b[0;32m     25\u001b[0m \u001b[1;33m\u001b[0m\u001b[0m\n\u001b[0;32m     26\u001b[0m \u001b[1;31m# Format\u001b[0m\u001b[1;33m\u001b[0m\u001b[1;33m\u001b[0m\u001b[0m\n",
      "\u001b[1;32m<ipython-input-39-98ce17a630f6>\u001b[0m in \u001b[0;36mformat_topics_sentences\u001b[1;34m(ldamodel, corpus, texts)\u001b[0m\n\u001b[0;32m      5\u001b[0m     \u001b[1;31m# Get main topic in each document\u001b[0m\u001b[1;33m\u001b[0m\u001b[1;33m\u001b[0m\u001b[0m\n\u001b[0;32m      6\u001b[0m     \u001b[1;32mfor\u001b[0m \u001b[0mi\u001b[0m\u001b[1;33m,\u001b[0m \u001b[0mrow\u001b[0m \u001b[1;32min\u001b[0m \u001b[0menumerate\u001b[0m\u001b[1;33m(\u001b[0m\u001b[0mldamodel\u001b[0m\u001b[1;33m[\u001b[0m\u001b[0mcorpus\u001b[0m\u001b[1;33m]\u001b[0m\u001b[1;33m)\u001b[0m\u001b[1;33m:\u001b[0m\u001b[1;33m\u001b[0m\u001b[0m\n\u001b[1;32m----> 7\u001b[1;33m         \u001b[0mrow\u001b[0m \u001b[1;33m=\u001b[0m \u001b[0msorted\u001b[0m\u001b[1;33m(\u001b[0m\u001b[0mrow\u001b[0m\u001b[1;33m,\u001b[0m \u001b[0mkey\u001b[0m\u001b[1;33m=\u001b[0m\u001b[1;32mlambda\u001b[0m \u001b[0mx\u001b[0m\u001b[1;33m:\u001b[0m \u001b[1;33m(\u001b[0m\u001b[0mx\u001b[0m\u001b[1;33m[\u001b[0m\u001b[1;36m1\u001b[0m\u001b[1;33m]\u001b[0m\u001b[1;33m)\u001b[0m\u001b[1;33m,\u001b[0m \u001b[0mreverse\u001b[0m\u001b[1;33m=\u001b[0m\u001b[1;32mTrue\u001b[0m\u001b[1;33m)\u001b[0m\u001b[1;33m\u001b[0m\u001b[0m\n\u001b[0m\u001b[0;32m      8\u001b[0m         \u001b[1;31m# Get the Dominant topic, Perc Contribution and Keywords for each document\u001b[0m\u001b[1;33m\u001b[0m\u001b[1;33m\u001b[0m\u001b[0m\n\u001b[0;32m      9\u001b[0m         \u001b[1;32mfor\u001b[0m \u001b[0mj\u001b[0m\u001b[1;33m,\u001b[0m \u001b[1;33m(\u001b[0m\u001b[0mtopic_num\u001b[0m\u001b[1;33m,\u001b[0m \u001b[0mprop_topic\u001b[0m\u001b[1;33m)\u001b[0m \u001b[1;32min\u001b[0m \u001b[0menumerate\u001b[0m\u001b[1;33m(\u001b[0m\u001b[0mrow\u001b[0m\u001b[1;33m)\u001b[0m\u001b[1;33m:\u001b[0m\u001b[1;33m\u001b[0m\u001b[0m\n",
      "\u001b[1;31mTypeError\u001b[0m: '<' not supported between instances of 'int' and 'tuple'"
     ]
    }
   ],
   "source": [
    "def format_topics_sentences(ldamodel=lda_model, corpus=corpus, texts=data):\n",
    "    # Init output\n",
    "    sent_topics_df = pd.DataFrame()\n",
    "\n",
    "    # Get main topic in each document\n",
    "    for i, row in enumerate(ldamodel[corpus]):\n",
    "        row = sorted(row, key=lambda x: (x[1]), reverse=True)\n",
    "        # Get the Dominant topic, Perc Contribution and Keywords for each document\n",
    "        for j, (topic_num, prop_topic) in enumerate(row):\n",
    "            if j == 0:  # => dominant topic\n",
    "                wp = ldamodel.show_topic(topic_num)\n",
    "                topic_keywords = \", \".join([word for word, prop in wp])\n",
    "                sent_topics_df = sent_topics_df.append(pd.Series([int(topic_num), round(prop_topic,4), topic_keywords]), ignore_index=True)\n",
    "            else:\n",
    "                break\n",
    "    sent_topics_df.columns = ['Dominant_Topic', 'Perc_Contribution', 'Topic_Keywords']\n",
    "\n",
    "    # Add original text to the end of the output\n",
    "    contents = pd.Series(texts)\n",
    "    sent_topics_df = pd.concat([sent_topics_df, contents], axis=1)\n",
    "    return(sent_topics_df)\n",
    "\n",
    "\n",
    "df_topic_sents_keywords = format_topics_sentences(ldamodel=optimal_model, corpus=corpus, texts=data)\n",
    "\n",
    "# Format\n",
    "df_dominant_topic = df_topic_sents_keywords.reset_index()\n",
    "df_dominant_topic.columns = ['Document_No', 'Dominant_Topic', 'Topic_Perc_Contrib', 'Keywords', 'Text']\n",
    "\n",
    "# Show\n",
    "df_dominant_topic.head(10)"
   ]
  },
  {
   "cell_type": "code",
   "execution_count": null,
   "metadata": {},
   "outputs": [],
   "source": [
    "## find the most representative document for each topic\n",
    "\n",
    "sent_topics_sorteddf_mallet = pd.DataFrame()\n",
    "\n",
    "sent_topics_outdf_grpd = df_topic_sents_keywords.groupby('Dominant_Topic')\n",
    "\n",
    "for i, grp in sent_topics_outdf_grpd:\n",
    "    sent_topics_sorteddf_mallet = pd.concat([sent_topics_sorteddf_mallet, grp.sort_values(['Perc_Contribution'], ascending=[0]).head(1)], axis=0)\n",
    "\n",
    "sent_topics_sorteddf_mallet.reset_index(drop=True, inplace=True)\n",
    "    \n",
    "sent_topics_sorteddf_mallet.columns = ['Topic_Num', 'Topic_Perc_Contrib', 'Keywords', 'Text']\n",
    "\n",
    "sent_topics_sorteddf_mallet.head()"
   ]
  },
  {
   "cell_type": "code",
   "execution_count": null,
   "metadata": {},
   "outputs": [],
   "source": [
    "# Number of Documents for Each Topic\n",
    "topic_counts = df_topic_sents_keywords['Dominant_Topic'].value_counts()\n",
    "\n",
    "# Percentage of Documents for Each Topic\n",
    "topic_contribution = round(topic_counts/topic_counts.sum(), 4)\n",
    "\n",
    "# Topic Number and Keywords\n",
    "topic_num_keywords = df_topic_sents_keywords[['Dominant_Topic', 'Topic_Keywords']]\n",
    "\n",
    "# Concatenate Column wise\n",
    "df_dominant_topics = pd.concat([topic_num_keywords, topic_counts, topic_contribution], axis=1)\n",
    "\n",
    "# Change Column names\n",
    "df_dominant_topics.columns = ['Dominant_Topic', 'Topic_Keywords', 'Num_Documents', 'Perc_Documents']\n",
    "\n",
    "# Show\n",
    "df_dominant_topics"
   ]
  }
 ],
 "metadata": {
  "kernelspec": {
   "display_name": "Python 3",
   "language": "python",
   "name": "python3"
  },
  "language_info": {
   "codemirror_mode": {
    "name": "ipython",
    "version": 3
   },
   "file_extension": ".py",
   "mimetype": "text/x-python",
   "name": "python",
   "nbconvert_exporter": "python",
   "pygments_lexer": "ipython3",
   "version": "3.7.0"
  }
 },
 "nbformat": 4,
 "nbformat_minor": 2
}
